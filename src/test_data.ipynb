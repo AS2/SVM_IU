{
 "cells": [
  {
   "attachments": {},
   "cell_type": "markdown",
   "metadata": {},
   "source": [
    "#### Импорты и лабуда"
   ]
  },
  {
   "cell_type": "code",
   "execution_count": null,
   "metadata": {},
   "outputs": [],
   "source": [
    "import numpy as np\n",
    "from iu_svm import SVMClassifier\n",
    "from utils import *\n",
    "from kernels import *\n",
    "import random\n",
    "\n",
    "np.random.seed(seed=30)"
   ]
  },
  {
   "attachments": {},
   "cell_type": "markdown",
   "metadata": {},
   "source": [
    "#### Константы"
   ]
  },
  {
   "cell_type": "code",
   "execution_count": null,
   "metadata": {},
   "outputs": [],
   "source": [
    "total_size = 500                # Размер выборок\n",
    "dim = 2                         # Размерность пространства (для простоты визуализации - R^2)\n",
    "C = [0.001, 1, 100, 1000]  # C - параметры регуляризации"
   ]
  },
  {
   "attachments": {},
   "cell_type": "markdown",
   "metadata": {},
   "source": [
    "## Сгенерированные данные\n",
    "### 1. Линейно разделимые данные"
   ]
  },
  {
   "cell_type": "code",
   "execution_count": null,
   "metadata": {},
   "outputs": [],
   "source": [
    "sepWidth = 0.1\n",
    "alpha, b = np.pi / 4, np.array([0, 1])\n",
    "\n",
    "# generate data\n",
    "linearSepData = np.random.uniform(-1, 1, total_size * dim)\n",
    "linearSepData = linearSepData.reshape((total_size, dim))\n",
    "\n",
    "# generate target points\n",
    "classes = []\n",
    "for d in linearSepData:\n",
    "    if d[1] >= 0:\n",
    "        d[1] += sepWidth\n",
    "        classes.append(1)\n",
    "    else:\n",
    "        d[1] -= sepWidth\n",
    "        classes.append(-1)\n",
    "linearClasses = np.array(classes)\n",
    "\n",
    "# transform data\n",
    "rotationM = np.array([[np.cos(alpha), -np.sin(alpha)], [np.sin(alpha), np.cos(alpha)]])\n",
    "linearSepData = linearSepData @ rotationM.T\n",
    "\n",
    "VizalizeData(linearSepData, linearClasses, \"Линейно разделимые данные\")"
   ]
  },
  {
   "attachments": {},
   "cell_type": "markdown",
   "metadata": {},
   "source": [
    "### 2. Линейно неразделимые данные (разделимые по окружностям)"
   ]
  },
  {
   "cell_type": "code",
   "execution_count": null,
   "metadata": {},
   "outputs": [],
   "source": [
    "sepWidth = 0.25\n",
    "sepDist = 4\n",
    "\n",
    "# generate data\n",
    "randRad = np.random.uniform(-np.pi, np.pi, total_size)\n",
    "randDist = np.random.uniform(sepWidth, sepDist * 2 - sepWidth, total_size)\n",
    "\n",
    "# generate target points\n",
    "radPoints = []\n",
    "classes = []\n",
    "\n",
    "for i, d in enumerate(randDist):\n",
    "    if d >= sepDist:\n",
    "        d += sepWidth\n",
    "        classes.append(1)\n",
    "    else:\n",
    "        d -= sepWidth\n",
    "        classes.append(-1)\n",
    "\n",
    "    point = np.array([d, 0])\n",
    "    rotationM = np.array([[np.cos(randRad[i]), -np.sin(randRad[i])], [np.sin(randRad[i]), np.cos(randRad[i])]])\n",
    "    radPoints.append(point @ rotationM.T)\n",
    "\n",
    "radPoints = np.array(radPoints)\n",
    "print(radPoints.shape)\n",
    "radClasses = np.array(classes)\n",
    "\n",
    "# transform data\n",
    "VizalizeData(radPoints, radClasses, \"Линейно неразделимые данные\")"
   ]
  },
  {
   "attachments": {},
   "cell_type": "markdown",
   "metadata": {},
   "source": [
    "## Испытания с различными данными"
   ]
  },
  {
   "cell_type": "code",
   "execution_count": 5,
   "metadata": {},
   "outputs": [
    {
     "ename": "KeyboardInterrupt",
     "evalue": "",
     "output_type": "error",
     "traceback": [
      "\u001b[1;31m---------------------------------------------------------------------------\u001b[0m",
      "\u001b[1;31mKeyboardInterrupt\u001b[0m                         Traceback (most recent call last)",
      "\u001b[1;32mc:\\Users\\Alex\\Documents\\GitHub\\SVM_IU\\src\\test_data.ipynb Cell 10\u001b[0m in \u001b[0;36m<cell line: 1>\u001b[1;34m()\u001b[0m\n\u001b[0;32m      <a href='vscode-notebook-cell:/c%3A/Users/Alex/Documents/GitHub/SVM_IU/src/test_data.ipynb#X14sZmlsZQ%3D%3D?line=2'>3</a>\u001b[0m     \u001b[39mbreakpoint\u001b[39m()\n\u001b[0;32m      <a href='vscode-notebook-cell:/c%3A/Users/Alex/Documents/GitHub/SVM_IU/src/test_data.ipynb#X14sZmlsZQ%3D%3D?line=3'>4</a>\u001b[0m classifier \u001b[39m=\u001b[39m SVMClassifier(LinearKernel, C\u001b[39m=\u001b[39mc)\n\u001b[1;32m----> <a href='vscode-notebook-cell:/c%3A/Users/Alex/Documents/GitHub/SVM_IU/src/test_data.ipynb#X14sZmlsZQ%3D%3D?line=4'>5</a>\u001b[0m MakeTest(classifier, linearSepData, linearClasses, \u001b[39mTrue\u001b[39;49;00m, \u001b[39mTrue\u001b[39;49;00m, \u001b[39mTrue\u001b[39;49;00m)\n",
      "File \u001b[1;32mc:\\Users\\Alex\\Documents\\GitHub\\SVM_IU\\src\\utils.py:38\u001b[0m, in \u001b[0;36mMakeTest\u001b[1;34m(classifier, x_set, y_set, plotTimes, plotResults, printAccuracy)\u001b[0m\n\u001b[0;32m     36\u001b[0m     \u001b[39mprint\u001b[39m(\u001b[39m\"\u001b[39m\u001b[39madd \u001b[39m\u001b[39m{}\u001b[39;00m\u001b[39m\"\u001b[39m\u001b[39m.\u001b[39mformat(i))\n\u001b[0;32m     37\u001b[0m     start \u001b[39m=\u001b[39m time\u001b[39m.\u001b[39mtime()\n\u001b[1;32m---> 38\u001b[0m     classifier\u001b[39m.\u001b[39;49mIncrementPair(x_set[i], y_set[i])\n\u001b[0;32m     39\u001b[0m     times\u001b[39m.\u001b[39mappend(time\u001b[39m.\u001b[39mtime() \u001b[39m-\u001b[39m start)\n\u001b[0;32m     41\u001b[0m \u001b[39mif\u001b[39;00m plotTimes:\n",
      "File \u001b[1;32mc:\\Users\\Alex\\Documents\\GitHub\\SVM_IU\\src\\iu_svm.py:237\u001b[0m, in \u001b[0;36mSVMClassifier.IncrementPair\u001b[1;34m(self, x_c, y_c)\u001b[0m\n\u001b[0;32m    235\u001b[0m \u001b[39mwhile\u001b[39;00m \u001b[39mself\u001b[39m\u001b[39m.\u001b[39mg[\u001b[39m-\u001b[39m\u001b[39m1\u001b[39m] \u001b[39m<\u001b[39m \u001b[39m-\u001b[39mEPS \u001b[39mand\u001b[39;00m \u001b[39mself\u001b[39m\u001b[39m.\u001b[39malphas[\u001b[39m-\u001b[39m\u001b[39m1\u001b[39m] \u001b[39m<\u001b[39m \u001b[39mself\u001b[39m\u001b[39m.\u001b[39mC:\n\u001b[0;32m    236\u001b[0m     betas \u001b[39m=\u001b[39m \u001b[39mself\u001b[39m\u001b[39m.\u001b[39mcalculateBetas()\n\u001b[1;32m--> 237\u001b[0m     gammas \u001b[39m=\u001b[39m \u001b[39mself\u001b[39;49m\u001b[39m.\u001b[39;49mcalculateGammas(betas)\n\u001b[0;32m    239\u001b[0m     delta_ac, k \u001b[39m=\u001b[39m \u001b[39mself\u001b[39m\u001b[39m.\u001b[39mcalculateDelta(betas, gammas)\n\u001b[0;32m    241\u001b[0m     \u001b[39mif\u001b[39;00m delta_ac \u001b[39m==\u001b[39m \u001b[39m0\u001b[39m:\n",
      "File \u001b[1;32mc:\\Users\\Alex\\Documents\\GitHub\\SVM_IU\\src\\iu_svm.py:98\u001b[0m, in \u001b[0;36mSVMClassifier.calculateGammas\u001b[1;34m(self, betas)\u001b[0m\n\u001b[0;32m     96\u001b[0m \u001b[39mdef\u001b[39;00m \u001b[39mcalculateGammas\u001b[39m(\u001b[39mself\u001b[39m, betas):\n\u001b[0;32m     97\u001b[0m     K_cc_cr \u001b[39m=\u001b[39m np\u001b[39m.\u001b[39marray(\n\u001b[1;32m---> 98\u001b[0m         [\n\u001b[0;32m     99\u001b[0m             [\u001b[39mself\u001b[39m\u001b[39m.\u001b[39my[r] \u001b[39m*\u001b[39m \u001b[39mself\u001b[39m\u001b[39m.\u001b[39my[\u001b[39m-\u001b[39m\u001b[39m1\u001b[39m] \u001b[39m*\u001b[39m \u001b[39mself\u001b[39m\u001b[39m.\u001b[39mkernel(\u001b[39mself\u001b[39m\u001b[39m.\u001b[39mx[\u001b[39m-\u001b[39m\u001b[39m1\u001b[39m], \u001b[39mself\u001b[39m\u001b[39m.\u001b[39mx[r])]\n\u001b[0;32m    100\u001b[0m             \u001b[39mfor\u001b[39;00m r \u001b[39min\u001b[39;00m [\u001b[39m-\u001b[39m\u001b[39m1\u001b[39m] \u001b[39m+\u001b[39m \u001b[39mself\u001b[39m\u001b[39m.\u001b[39mE \u001b[39m+\u001b[39m \u001b[39mself\u001b[39m\u001b[39m.\u001b[39mO\n\u001b[0;32m    101\u001b[0m         ],\n\u001b[0;32m    102\u001b[0m         np\u001b[39m.\u001b[39mfloat32,\n\u001b[0;32m    103\u001b[0m     )\n\u001b[0;32m    104\u001b[0m     m \u001b[39m=\u001b[39m np\u001b[39m.\u001b[39mconcatenate(\n\u001b[0;32m    105\u001b[0m         [\n\u001b[0;32m    106\u001b[0m             [[\u001b[39mself\u001b[39m\u001b[39m.\u001b[39my[r]] \u001b[39mfor\u001b[39;00m r \u001b[39min\u001b[39;00m [\u001b[39m-\u001b[39m\u001b[39m1\u001b[39m] \u001b[39m+\u001b[39m \u001b[39mself\u001b[39m\u001b[39m.\u001b[39mE \u001b[39m+\u001b[39m \u001b[39mself\u001b[39m\u001b[39m.\u001b[39mO],\n\u001b[1;32m   (...)\u001b[0m\n\u001b[0;32m    116\u001b[0m         dtype\u001b[39m=\u001b[39mnp\u001b[39m.\u001b[39mfloat32,\n\u001b[0;32m    117\u001b[0m     )\n\u001b[0;32m    118\u001b[0m     \u001b[39mreturn\u001b[39;00m m \u001b[39m@\u001b[39m betas \u001b[39m+\u001b[39m K_cc_cr\n",
      "File \u001b[1;32mc:\\Users\\Alex\\Documents\\GitHub\\SVM_IU\\src\\iu_svm.py:99\u001b[0m, in \u001b[0;36m<listcomp>\u001b[1;34m(.0)\u001b[0m\n\u001b[0;32m     96\u001b[0m \u001b[39mdef\u001b[39;00m \u001b[39mcalculateGammas\u001b[39m(\u001b[39mself\u001b[39m, betas):\n\u001b[0;32m     97\u001b[0m     K_cc_cr \u001b[39m=\u001b[39m np\u001b[39m.\u001b[39marray(\n\u001b[0;32m     98\u001b[0m         [\n\u001b[1;32m---> 99\u001b[0m             [\u001b[39mself\u001b[39m\u001b[39m.\u001b[39my[r] \u001b[39m*\u001b[39m \u001b[39mself\u001b[39m\u001b[39m.\u001b[39my[\u001b[39m-\u001b[39m\u001b[39m1\u001b[39m] \u001b[39m*\u001b[39m \u001b[39mself\u001b[39;49m\u001b[39m.\u001b[39;49mkernel(\u001b[39mself\u001b[39;49m\u001b[39m.\u001b[39;49mx[\u001b[39m-\u001b[39;49m\u001b[39m1\u001b[39;49m], \u001b[39mself\u001b[39;49m\u001b[39m.\u001b[39;49mx[r])]\n\u001b[0;32m    100\u001b[0m             \u001b[39mfor\u001b[39;00m r \u001b[39min\u001b[39;00m [\u001b[39m-\u001b[39m\u001b[39m1\u001b[39m] \u001b[39m+\u001b[39m \u001b[39mself\u001b[39m\u001b[39m.\u001b[39mE \u001b[39m+\u001b[39m \u001b[39mself\u001b[39m\u001b[39m.\u001b[39mO\n\u001b[0;32m    101\u001b[0m         ],\n\u001b[0;32m    102\u001b[0m         np\u001b[39m.\u001b[39mfloat32,\n\u001b[0;32m    103\u001b[0m     )\n\u001b[0;32m    104\u001b[0m     m \u001b[39m=\u001b[39m np\u001b[39m.\u001b[39mconcatenate(\n\u001b[0;32m    105\u001b[0m         [\n\u001b[0;32m    106\u001b[0m             [[\u001b[39mself\u001b[39m\u001b[39m.\u001b[39my[r]] \u001b[39mfor\u001b[39;00m r \u001b[39min\u001b[39;00m [\u001b[39m-\u001b[39m\u001b[39m1\u001b[39m] \u001b[39m+\u001b[39m \u001b[39mself\u001b[39m\u001b[39m.\u001b[39mE \u001b[39m+\u001b[39m \u001b[39mself\u001b[39m\u001b[39m.\u001b[39mO],\n\u001b[1;32m   (...)\u001b[0m\n\u001b[0;32m    116\u001b[0m         dtype\u001b[39m=\u001b[39mnp\u001b[39m.\u001b[39mfloat32,\n\u001b[0;32m    117\u001b[0m     )\n\u001b[0;32m    118\u001b[0m     \u001b[39mreturn\u001b[39;00m m \u001b[39m@\u001b[39m betas \u001b[39m+\u001b[39m K_cc_cr\n",
      "File \u001b[1;32mc:\\Users\\Alex\\Documents\\GitHub\\SVM_IU\\src\\kernels.py:7\u001b[0m, in \u001b[0;36mLinearKernel\u001b[1;34m(x1, x2)\u001b[0m\n\u001b[0;32m      6\u001b[0m \u001b[39mdef\u001b[39;00m \u001b[39mLinearKernel\u001b[39m(x1: np\u001b[39m.\u001b[39mndarray, x2: np\u001b[39m.\u001b[39mndarray) \u001b[39m-\u001b[39m\u001b[39m>\u001b[39m \u001b[39mfloat\u001b[39m:\n\u001b[1;32m----> 7\u001b[0m     \u001b[39mreturn\u001b[39;00m np\u001b[39m.\u001b[39;49mdot(x1, x2)\n",
      "File \u001b[1;32m<__array_function__ internals>:180\u001b[0m, in \u001b[0;36mdot\u001b[1;34m(*args, **kwargs)\u001b[0m\n",
      "\u001b[1;31mKeyboardInterrupt\u001b[0m: "
     ]
    }
   ],
   "source": [
    "for c in C:\n",
    "    if c == C[1]:\n",
    "        breakpoint()\n",
    "    classifier = SVMClassifier(LinearKernel, C=c)\n",
    "    MakeTest(classifier, linearSepData, linearClasses, True, True, True)"
   ]
  }
 ],
 "metadata": {
  "kernelspec": {
   "display_name": "Python 3",
   "language": "python",
   "name": "python3"
  },
  "language_info": {
   "codemirror_mode": {
    "name": "ipython",
    "version": 3
   },
   "file_extension": ".py",
   "mimetype": "text/x-python",
   "name": "python",
   "nbconvert_exporter": "python",
   "pygments_lexer": "ipython3",
   "version": "3.10.6"
  },
  "orig_nbformat": 4
 },
 "nbformat": 4,
 "nbformat_minor": 2
}
